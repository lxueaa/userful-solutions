{
 "cells": [
  {
   "cell_type": "markdown",
   "metadata": {},
   "source": [
    "# Install Anaconda in C-shell (csh)\n",
    "\n",
    "**1. Download Installer**\n",
    "\n",
    "Go to [Anaconda](https://www.anaconda.com/distribution/) webpage, select the version you need. Here I choose the lateset Linux Version."
   ]
  },
  {
   "cell_type": "code",
   "execution_count": null,
   "metadata": {},
   "outputs": [],
   "source": [
    "%%bash\n",
    "$ wget https://repo.anaconda.com/archive/Anaconda3-2019.03-Linux-x86_64.sh"
   ]
  },
  {
   "cell_type": "markdown",
   "metadata": {},
   "source": [
    "**2. Install Anaconda**"
   ]
  },
  {
   "cell_type": "code",
   "execution_count": null,
   "metadata": {},
   "outputs": [],
   "source": [
    "%%bash\n",
    "$ bash Anaconda3-2019.03-Linux-x86_64.sh"
   ]
  },
  {
   "cell_type": "markdown",
   "metadata": {},
   "source": [
    "During installation, you will need to decide where to install your anaconda. I install it here:"
   ]
  },
  {
   "cell_type": "code",
   "execution_count": null,
   "metadata": {},
   "outputs": [],
   "source": [
    "%%bash\n",
    "$ /home/data/lxueaa/anaconda3"
   ]
  },
  {
   "cell_type": "markdown",
   "metadata": {},
   "source": [
    "You need also set $PATH environment in your source file. For me, it is under directory:"
   ]
  },
  {
   "cell_type": "code",
   "execution_count": null,
   "metadata": {},
   "outputs": [],
   "source": [
    "%%bash\n",
    "$ ~/.cshrc_user"
   ]
  },
  {
   "cell_type": "markdown",
   "metadata": {},
   "source": [
    "To set the $PATH, add following line to the end of your source file:"
   ]
  },
  {
   "cell_type": "code",
   "execution_count": null,
   "metadata": {},
   "outputs": [],
   "source": [
    "%%bash\n",
    "setenv PATH \"${PATH}:/home/data/lxueaa/anaconda3/bin\""
   ]
  },
  {
   "cell_type": "markdown",
   "metadata": {},
   "source": [
    "Then close your terminal and restart it. Type:"
   ]
  },
  {
   "cell_type": "code",
   "execution_count": null,
   "metadata": {},
   "outputs": [],
   "source": [
    "%%bash\n",
    "$ conda"
   ]
  },
  {
   "cell_type": "markdown",
   "metadata": {},
   "source": [
    "If you successfully install it, you will see a list of conda manual.\n",
    "\n",
    "**3. Initialize Anaconda**\n",
    "\n",
    "To initialize your shell, run this command and restart your terminal:"
   ]
  },
  {
   "cell_type": "code",
   "execution_count": null,
   "metadata": {},
   "outputs": [],
   "source": [
    "%%bash\n",
    "$ conda init <SHELL_NAME>"
   ]
  },
  {
   "cell_type": "markdown",
   "metadata": {},
   "source": [
    "To check your shell name (bash, fish, tcsh, xonsh, zsh, or powershell), you can run and see:"
   ]
  },
  {
   "cell_type": "code",
   "execution_count": null,
   "metadata": {},
   "outputs": [],
   "source": [
    "%%bash\n",
    "$ echo $0\n",
    "-tcsh"
   ]
  },
  {
   "cell_type": "markdown",
   "metadata": {},
   "source": [
    "Actually, my shell type is csh. This will cause some trouble when activate your virtual environment. We will introduce one possible solution here, proved work on my situation, to see how to solve it.\n",
    "\n",
    "**4. Create your own python enviroment**\n",
    "\n",
    " To create a new environment (e.g. we name this environment as py373)  just type:"
   ]
  },
  {
   "cell_type": "code",
   "execution_count": null,
   "metadata": {},
   "outputs": [],
   "source": [
    "%%bash\n",
    "$ conda create -n py373 python=3.7.3"
   ]
  },
  {
   "cell_type": "markdown",
   "metadata": {},
   "source": [
    "After create it, you can run following to see a list of virtual environment created:"
   ]
  },
  {
   "cell_type": "code",
   "execution_count": null,
   "metadata": {},
   "outputs": [],
   "source": [
    "%%bash\n",
    "$ conda info --envs\n",
    "WARNING: The conda.compat module is deprecated and will be removed in a future release.\n",
    "# conda environments:\n",
    "#\n",
    "base                  *  /home/data/lxueaa/anaconda3\n",
    "py373                    /home/data/lxueaa/anaconda3/envs/py373"
   ]
  },
  {
   "cell_type": "markdown",
   "metadata": {},
   "source": [
    "To use **py373**, you need to activate it. The star '*' means **base** is currently activated.\n",
    "\n",
    "**5. Activate your environment**\n",
    "\n",
    "According to the Anaconda Docs, to activate **py373**, you need to type:"
   ]
  },
  {
   "cell_type": "code",
   "execution_count": null,
   "metadata": {},
   "outputs": [],
   "source": [
    "%%bash\n",
    "$ conda activate py373"
   ]
  },
  {
   "cell_type": "markdown",
   "metadata": {},
   "source": [
    "Unfortunately, since we use csh shell, you will see:"
   ]
  },
  {
   "cell_type": "code",
   "execution_count": null,
   "metadata": {},
   "outputs": [],
   "source": [
    "%%bash\n",
    "$ conda activate py373\n",
    "\n",
    "CommandNotFoundError: Your shell has not been properly configured to use 'conda activate'.\n",
    "To initialize your shell, run\n",
    "\n",
    "    $ conda init <SHELL_NAME>\n",
    "\n",
    "Currently supported shells are:\n",
    "  - bash\n",
    "  - fish\n",
    "  - tcsh\n",
    "  - xonsh\n",
    "  - zsh\n",
    "  - powershell\n",
    "\n",
    "See 'conda init --help' for more information and options.\n",
    "\n",
    "IMPORTANT: You may need to close and restart your shell after running 'conda init'."
   ]
  },
  {
   "cell_type": "markdown",
   "metadata": {},
   "source": [
    "I Googled a lot of solutions, and finally solve it based on [Caoxiang Zhu's Blog](https://zhucaoxiang.github.io/2019/02/20/Use-Conda-Activate-in-C-Shell.html). Here are detailed solutions:\n",
    "\n",
    "**IMPORTANT: This ONLY works when your local default python version is 2.x. I tried it with local python 3.7.1, it did not works. Not sure for other python 3.x version.**\n",
    "\n",
    "1. Download the [activate.csh]() and [deactivate.csh]() files in your installation directory. In my case, it is:\n",
    "\n",
    "   ```bash\n",
    "   $ \\home\\data\\lxueaa\\anaconda3\\bin\\\n",
    "   ```\n",
    "\n",
    "2. Set environment variables. Open the environment file in home directory, in my case is:\n",
    "\n",
    "   ```bash\n",
    "   $ vim ~/.cshrc_user\n",
    "   ```\n",
    "\n",
    "   Then, add the following to the end of your file:\n",
    "\n",
    "   ```bash\n",
    "   setenv CONDA_ENVS_PATH /home/data/lxueaa/anaconda3/envs\n",
    "   alias activate 'source /home/data/lxueaa/anaconda3/bin/activate.csh'\n",
    "   alias deactivate 'source /home/data/lxueaa/anaconda3/bin/deactivate.csh'\n",
    "   ```\n",
    "\n",
    "   Restart your terminal.\n",
    "\n",
    "3. Activate **py373** by\n",
    "\n",
    "   ```bash\n",
    "   $ activate py373\n",
    "   basename: extra operand ‘’\n",
    "   Try 'basename --help' for more information.\n",
    "   Your Python environment has been changed to the 'py373' conda environment. Here's the active version of Python:\n",
    "   /home/data/lxueaa/anaconda3/envs/py373/bin/python\n",
    "   Python 3.7.3\n",
    "   To switch back to your default Python environment, type 'source deactivate.csh'\n",
    "   ```\n",
    "\n",
    "4. Deactivate **py373** by\n",
    "\n",
    "   ```bash\n",
    "   $ deactivate py373\n",
    "   Your Python environment has been reset. Here's the active version of Python:\n",
    "   /bin/python\n",
    "   Python 2.7.5\n",
    "   ```\n",
    "\n",
    "**6. Conda Install Packages**\n",
    "\n",
    "When using conda install packages, for example:"
   ]
  },
  {
   "cell_type": "code",
   "execution_count": null,
   "metadata": {},
   "outputs": [],
   "source": [
    "%%bash\n",
    "$ conda install mxnet "
   ]
  },
  {
   "cell_type": "markdown",
   "metadata": {},
   "source": [
    "You may encounter this problem, expecially when you are using a cluster have many users, and each user has limited disk quota in their home directory:"
   ]
  },
  {
   "cell_type": "code",
   "execution_count": null,
   "metadata": {},
   "outputs": [],
   "source": [
    "%%bash\n",
    "ERROR conda.core.link:_execute(568): An error occurred while installing package 'None'.\n",
    "OSError(122, 'Disk quota exceeded')"
   ]
  },
  {
   "cell_type": "markdown",
   "metadata": {},
   "source": [
    "This problem happens because under your home directory, there is a hidden folder named **.conda**. By default, conda will download and cache packages in this folder, and this may cause user disk quota exceeded."
   ]
  },
  {
   "cell_type": "code",
   "execution_count": null,
   "metadata": {},
   "outputs": [],
   "source": [
    "%%bash\n",
    "$ ls -a\n",
    ".          .cache    .config      DOS       .login       public_html      .viminfo\n",
    "..         .conda    .cshrc       .history  .login_user  .python_history  .Xauthority\n",
    ".anaconda  .condarc  .cshrc_user  .local    perl5        .vim"
   ]
  },
  {
   "cell_type": "markdown",
   "metadata": {},
   "source": [
    "To solve this, we need to change the default cache directory by modify **.condarc** file, usually in home directory."
   ]
  },
  {
   "cell_type": "code",
   "execution_count": null,
   "metadata": {},
   "outputs": [],
   "source": [
    "%%bash\n",
    "$ vim .condarc"
   ]
  },
  {
   "cell_type": "markdown",
   "metadata": {},
   "source": [
    "Edit **.condarc**: by adding following lines to the file:"
   ]
  },
  {
   "cell_type": "code",
   "execution_count": null,
   "metadata": {},
   "outputs": [],
   "source": [
    "%%bash\n",
    "auto_activate_base: true                                                              \n",
    "envs_dirs:\n",
    "  - /home/data/lxueaa/anaconda3/envs\n",
    "pkgs_dirs:\n",
    "  - /home/data/lxueaa/anaconda3/pkgs"
   ]
  },
  {
   "cell_type": "markdown",
   "metadata": {},
   "source": [
    "Save and restart your terminal. Solved.\n",
    "\n",
    "**7. Possible problem and solutions**\n",
    "\n",
    "Because we did something on activate, sometimes when we install packages, it may not install to our current virtual environment. For example, when I install pytorch, I want it is installed under folder */home/data/lxueaa/anaconda3/envs/py373/bin*. However, it is installed in */home/data/lxueaa/anaconda3/bin*.\n",
    "\n",
    "To solve this, you can directly go to your virtual environment bin and install it by using pip:"
   ]
  },
  {
   "cell_type": "code",
   "execution_count": null,
   "metadata": {},
   "outputs": [],
   "source": [
    "%%bash\n",
    "$ cd /home/data/lxueaa/anaconda3/envs/py373/bin\n",
    "$ pip install https://download.pytorch.org/whl/cu100/torch-1.1.0-cp37-cp37m-linux_x86_64.whl\n",
    "$ pip install https://download.pytorch.org/whl/cu100/torchvision-0.3.0-cp37-cp37m-linux_x86_64.whl"
   ]
  }
 ],
 "metadata": {},
 "nbformat": 4,
 "nbformat_minor": 2
}
